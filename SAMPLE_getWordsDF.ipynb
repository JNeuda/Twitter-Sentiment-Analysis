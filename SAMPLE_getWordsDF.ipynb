{
 "cells": [
  {
   "cell_type": "code",
   "execution_count": 1,
   "metadata": {
    "collapsed": true
   },
   "outputs": [],
   "source": [
    "# Dependendcies\n",
    "import pandas as pd\n",
    "from getWordsDF import getWordsDF as gw # importing the class\n",
    "#import getWordsDF\n"
   ]
  },
  {
   "cell_type": "code",
   "execution_count": 2,
   "metadata": {
    "collapsed": true
   },
   "outputs": [],
   "source": [
    "# required argument for method\n",
    "filepath = \"triggerWords.csv\"\n",
    "filepathHOU = \"HOU_TWEETS_14APRIL0001.csv\""
   ]
  },
  {
   "cell_type": "code",
   "execution_count": 3,
   "metadata": {},
   "outputs": [
    {
     "data": {
      "text/html": [
       "<div>\n",
       "<style>\n",
       "    .dataframe thead tr:only-child th {\n",
       "        text-align: right;\n",
       "    }\n",
       "\n",
       "    .dataframe thead th {\n",
       "        text-align: left;\n",
       "    }\n",
       "\n",
       "    .dataframe tbody tr th {\n",
       "        vertical-align: top;\n",
       "    }\n",
       "</style>\n",
       "<table border=\"1\" class=\"dataframe\">\n",
       "  <thead>\n",
       "    <tr style=\"text-align: right;\">\n",
       "      <th></th>\n",
       "      <th>phrases</th>\n",
       "    </tr>\n",
       "  </thead>\n",
       "  <tbody>\n",
       "    <tr>\n",
       "      <th>0</th>\n",
       "      <td>kill myself</td>\n",
       "    </tr>\n",
       "    <tr>\n",
       "      <th>1</th>\n",
       "      <td>hurt myself</td>\n",
       "    </tr>\n",
       "    <tr>\n",
       "      <th>2</th>\n",
       "      <td>suicide</td>\n",
       "    </tr>\n",
       "    <tr>\n",
       "      <th>3</th>\n",
       "      <td>can't take it</td>\n",
       "    </tr>\n",
       "    <tr>\n",
       "      <th>4</th>\n",
       "      <td>not sleeping</td>\n",
       "    </tr>\n",
       "  </tbody>\n",
       "</table>\n",
       "</div>"
      ],
      "text/plain": [
       "         phrases\n",
       "0    kill myself\n",
       "1    hurt myself\n",
       "2        suicide\n",
       "3  can't take it\n",
       "4   not sleeping"
      ]
     },
     "execution_count": 3,
     "metadata": {},
     "output_type": "execute_result"
    }
   ],
   "source": [
    "words_df = gw.getWordsDF(filepath)\n",
    "words_df.head()"
   ]
  },
  {
   "cell_type": "code",
   "execution_count": 4,
   "metadata": {},
   "outputs": [
    {
     "data": {
      "text/html": [
       "<div>\n",
       "<style>\n",
       "    .dataframe thead tr:only-child th {\n",
       "        text-align: right;\n",
       "    }\n",
       "\n",
       "    .dataframe thead th {\n",
       "        text-align: left;\n",
       "    }\n",
       "\n",
       "    .dataframe tbody tr th {\n",
       "        vertical-align: top;\n",
       "    }\n",
       "</style>\n",
       "<table border=\"1\" class=\"dataframe\">\n",
       "  <thead>\n",
       "    <tr style=\"text-align: right;\">\n",
       "      <th></th>\n",
       "      <th>ID</th>\n",
       "      <th>DateTime</th>\n",
       "      <th>Username</th>\n",
       "      <th>tweet_text</th>\n",
       "      <th>retweet count</th>\n",
       "      <th>Tweet Name</th>\n",
       "      <th>followers</th>\n",
       "      <th>friends count</th>\n",
       "      <th>status count</th>\n",
       "      <th>Search Coordinates</th>\n",
       "    </tr>\n",
       "  </thead>\n",
       "  <tbody>\n",
       "    <tr>\n",
       "      <th>0</th>\n",
       "      <td>985161895014367232</td>\n",
       "      <td>Sat Apr 14 14:24:33 +0000 2018</td>\n",
       "      <td>nemi chand</td>\n",
       "      <td>RT @cpimspeak: 1st Political Murder of the BJP...</td>\n",
       "      <td>0</td>\n",
       "      <td>CPI (M)</td>\n",
       "      <td>889</td>\n",
       "      <td>2210</td>\n",
       "      <td>6884</td>\n",
       "      <td>[-95.893944, 29.39027, -94.943367, 30.236691]</td>\n",
       "    </tr>\n",
       "    <tr>\n",
       "      <th>1</th>\n",
       "      <td>985161897593974786</td>\n",
       "      <td>Sat Apr 14 14:24:34 +0000 2018</td>\n",
       "      <td>Jaspreet Sidhu</td>\n",
       "      <td>RT @puchu_insa: #SaintMSG_Initiative85 \\nAt @d...</td>\n",
       "      <td>0</td>\n",
       "      <td>Neha Tyagi</td>\n",
       "      <td>9</td>\n",
       "      <td>111</td>\n",
       "      <td>1753</td>\n",
       "      <td>[-95.893944, 29.39027, -94.943367, 30.236691]</td>\n",
       "    </tr>\n",
       "    <tr>\n",
       "      <th>2</th>\n",
       "      <td>985161900244783106</td>\n",
       "      <td>Sat Apr 14 14:24:35 +0000 2018</td>\n",
       "      <td>Ev.ð</td>\n",
       "      <td>RT @haveuseenhannah: a while ago i was reading...</td>\n",
       "      <td>0</td>\n",
       "      <td>Hannahð§ð¾ââï¸</td>\n",
       "      <td>484</td>\n",
       "      <td>220</td>\n",
       "      <td>35710</td>\n",
       "      <td>[-95.893944, 29.39027, -94.943367, 30.236691]</td>\n",
       "    </tr>\n",
       "    <tr>\n",
       "      <th>3</th>\n",
       "      <td>985161919769096192</td>\n",
       "      <td>Sat Apr 14 14:24:39 +0000 2018</td>\n",
       "      <td>fentepc@gmail.com</td>\n",
       "      <td>@GuruLeaks @SettuOfficial Eandi, people r worr...</td>\n",
       "      <td>0</td>\n",
       "      <td>CSK Guru official â¢</td>\n",
       "      <td>191</td>\n",
       "      <td>1860</td>\n",
       "      <td>1798</td>\n",
       "      <td>[-95.893944, 29.39027, -94.943367, 30.236691]</td>\n",
       "    </tr>\n",
       "    <tr>\n",
       "      <th>4</th>\n",
       "      <td>985161934503739392</td>\n",
       "      <td>Sat Apr 14 14:24:43 +0000 2018</td>\n",
       "      <td>à¤à¤·à¤­ à¤¸à¤¿à¤à¤¹</td>\n",
       "      <td>RT @PMuralidharRao: Siddaramaiah ji's home dis...</td>\n",
       "      <td>0</td>\n",
       "      <td>P Muralidhar Rao</td>\n",
       "      <td>65</td>\n",
       "      <td>119</td>\n",
       "      <td>690</td>\n",
       "      <td>[-95.893944, 29.39027, -94.943367, 30.236691]</td>\n",
       "    </tr>\n",
       "  </tbody>\n",
       "</table>\n",
       "</div>"
      ],
      "text/plain": [
       "                   ID                        DateTime                Username  \\\n",
       "0  985161895014367232  Sat Apr 14 14:24:33 +0000 2018              nemi chand   \n",
       "1  985161897593974786  Sat Apr 14 14:24:34 +0000 2018          Jaspreet Sidhu   \n",
       "2  985161900244783106  Sat Apr 14 14:24:35 +0000 2018                 Ev.ð   \n",
       "3  985161919769096192  Sat Apr 14 14:24:39 +0000 2018       fentepc@gmail.com   \n",
       "4  985161934503739392  Sat Apr 14 14:24:43 +0000 2018  à¤à¤·à¤­ à¤¸à¤¿à¤à¤¹   \n",
       "\n",
       "                                          tweet_text  retweet count  \\\n",
       "0  RT @cpimspeak: 1st Political Murder of the BJP...              0   \n",
       "1  RT @puchu_insa: #SaintMSG_Initiative85 \\nAt @d...              0   \n",
       "2  RT @haveuseenhannah: a while ago i was reading...              0   \n",
       "3  @GuruLeaks @SettuOfficial Eandi, people r worr...              0   \n",
       "4  RT @PMuralidharRao: Siddaramaiah ji's home dis...              0   \n",
       "\n",
       "                Tweet Name  followers  friends count  status count  \\\n",
       "0                  CPI (M)        889           2210          6884   \n",
       "1               Neha Tyagi          9            111          1753   \n",
       "2  Hannahð§ð¾ââï¸        484            220         35710   \n",
       "3    CSK Guru official â¢        191           1860          1798   \n",
       "4         P Muralidhar Rao         65            119           690   \n",
       "\n",
       "                              Search Coordinates  \n",
       "0  [-95.893944, 29.39027, -94.943367, 30.236691]  \n",
       "1  [-95.893944, 29.39027, -94.943367, 30.236691]  \n",
       "2  [-95.893944, 29.39027, -94.943367, 30.236691]  \n",
       "3  [-95.893944, 29.39027, -94.943367, 30.236691]  \n",
       "4  [-95.893944, 29.39027, -94.943367, 30.236691]  "
      ]
     },
     "execution_count": 4,
     "metadata": {},
     "output_type": "execute_result"
    }
   ],
   "source": [
    "words2_df = gw.getDFFromCSV(filepathHOU)\n",
    "words2_df.head()"
   ]
  },
  {
   "cell_type": "code",
   "execution_count": null,
   "metadata": {
    "collapsed": true
   },
   "outputs": [],
   "source": []
  }
 ],
 "metadata": {
  "kernelspec": {
   "display_name": "Python 3",
   "language": "python",
   "name": "python3"
  },
  "language_info": {
   "codemirror_mode": {
    "name": "ipython",
    "version": 3
   },
   "file_extension": ".py",
   "mimetype": "text/x-python",
   "name": "python",
   "nbconvert_exporter": "python",
   "pygments_lexer": "ipython3",
   "version": "3.6.3"
  }
 },
 "nbformat": 4,
 "nbformat_minor": 2
}
